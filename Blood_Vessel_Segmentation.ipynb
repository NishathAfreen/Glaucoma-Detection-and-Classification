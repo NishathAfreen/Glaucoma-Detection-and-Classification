{
  "nbformat": 4,
  "nbformat_minor": 0,
  "metadata": {
    "colab": {
      "name": "Blood_Vessel_Segmentation.ipynb",
      "version": "0.3.2",
      "provenance": [],
      "include_colab_link": true
    },
    "kernelspec": {
      "display_name": "Python 3",
      "language": "python",
      "name": "python3"
    }
  },
  "cells": [
    {
      "cell_type": "markdown",
      "metadata": {
        "id": "view-in-github",
        "colab_type": "text"
      },
      "source": [
        "<a href=\"https://colab.research.google.com/github/SonalSavaliya/Glaucoma-Detection-and-Classification/blob/master/Blood_Vessel_Segmentation.ipynb\" target=\"_parent\"><img src=\"https://colab.research.google.com/assets/colab-badge.svg\" alt=\"Open In Colab\"/></a>"
      ]
    },
    {
      "cell_type": "code",
      "metadata": {
        "id": "FDVsP4HvVYr1",
        "colab_type": "code",
        "colab": {}
      },
      "source": [
        "import cv2\n",
        "import numpy as np\n",
        "import os\n",
        "import csv\n",
        "\n",
        "\n",
        "def extract_bv(image):\t\t\n",
        "\tb,green_fundus,r = cv2.split(image)\n",
        "\tclahe = cv2.createCLAHE(clipLimit=2.0, tileGridSize=(8,8))\n",
        "\tcontrast_enhanced_green_fundus = clahe.apply(green_fundus)\n",
        "\n",
        "\t# applying alternate sequential filtering (3 times closing opening)\n",
        "\tr1 = cv2.morphologyEx(contrast_enhanced_green_fundus, cv2.MORPH_OPEN, cv2.getStructuringElement(cv2.MORPH_ELLIPSE,(5,5)), iterations = 1)\n",
        "\tR1 = cv2.morphologyEx(r1, cv2.MORPH_CLOSE, cv2.getStructuringElement(cv2.MORPH_ELLIPSE,(5,5)), iterations = 1)\n",
        "\tr2 = cv2.morphologyEx(R1, cv2.MORPH_OPEN, cv2.getStructuringElement(cv2.MORPH_ELLIPSE,(11,11)), iterations = 1)\n",
        "\tR2 = cv2.morphologyEx(r2, cv2.MORPH_CLOSE, cv2.getStructuringElement(cv2.MORPH_ELLIPSE,(11,11)), iterations = 1)\n",
        "\tr3 = cv2.morphologyEx(R2, cv2.MORPH_OPEN, cv2.getStructuringElement(cv2.MORPH_ELLIPSE,(23,23)), iterations = 1)\n",
        "\tR3 = cv2.morphologyEx(r3, cv2.MORPH_CLOSE, cv2.getStructuringElement(cv2.MORPH_ELLIPSE,(23,23)), iterations = 1)\t\n",
        "\tf4 = cv2.subtract(R3,contrast_enhanced_green_fundus)\n",
        "\tf5 = clahe.apply(f4)\t\t\n",
        "\n",
        "\t# removing very small contours through area parameter noise removal\n",
        "\tret,f6 = cv2.threshold(f5,15,255,cv2.THRESH_BINARY)\t\n",
        "\tmask = np.ones(f5.shape[:2], dtype=\"uint8\") * 255\t\n",
        "\tim2, contours, hierarchy = cv2.findContours(f6.copy(),cv2.RETR_LIST,cv2.CHAIN_APPROX_SIMPLE)\n",
        "\tfor cnt in contours:\n",
        "\t\tif cv2.contourArea(cnt) <= 200:\n",
        "\t\t\tcv2.drawContours(mask, [cnt], -1, 0, -1)\t\t\t\n",
        "\tim = cv2.bitwise_and(f5, f5, mask=mask)\n",
        "\tret,fin = cv2.threshold(im,15,255,cv2.THRESH_BINARY_INV)\t\t\t\n",
        "\tnewfin = cv2.erode(fin, cv2.getStructuringElement(cv2.MORPH_ELLIPSE,(3,3)), iterations=1)\t\n",
        "\n",
        "\t# removing blobs of unwanted bigger chunks taking in consideration they are not straight lines like blood\n",
        "\t#vessels and also in an interval of area\n",
        "\tfundus_eroded = cv2.bitwise_not(newfin)\t\n",
        "\txmask = np.ones(fundus.shape[:2], dtype=\"uint8\") * 255\n",
        "\tx1, xcontours, xhierarchy = cv2.findContours(fundus_eroded.copy(),cv2.RETR_LIST,cv2.CHAIN_APPROX_SIMPLE)\t\n",
        "\tfor cnt in xcontours:\n",
        "\t\tshape = \"unidentified\"\n",
        "\t\tperi = cv2.arcLength(cnt, True)\n",
        "\t\tapprox = cv2.approxPolyDP(cnt, 0.04 * peri, False)   \t\t\t\t\n",
        "\t\tif len(approx) > 4 and cv2.contourArea(cnt) <= 3000 and cv2.contourArea(cnt) >= 100:\n",
        "\t\t\tshape = \"circle\"\t\n",
        "\t\telse:\n",
        "\t\t\tshape = \"veins\"\n",
        "\t\tif(shape==\"circle\"):\n",
        "\t\t\tcv2.drawContours(xmask, [cnt], -1, 0, -1)\t\n",
        "\t\n",
        "\tfinimage = cv2.bitwise_and(fundus_eroded,fundus_eroded,mask=xmask)\t\n",
        "\tblood_vessels = cv2.bitwise_not(finimage)\n",
        "\treturn blood_vessels\t\n",
        "\n",
        "if __name__ == \"__main__\":\t\n",
        "\tpathFolder = \"C:/Drishti/Train/Glaucomatous\"\n",
        "\tfilesArray = [x for x in os.listdir(pathFolder) if os.path.isfile(os.path.join(pathFolder,x))]\n",
        "\tdestinationFolder = \"C:/Drishti/Train/Glaucomatous_BV/\"\n",
        "\tif not os.path.exists(destinationFolder):\n",
        "\t\tos.mkdir(destinationFolder)\n",
        "\tfor file_name in filesArray:\n",
        "\t\tfile_name_no_extension = os.path.splitext(file_name)[0]\n",
        "\t\tfundus = cv2.imread(pathFolder+'/'+file_name)\t\t\n",
        "\t\tbloodvessel = extract_bv(fundus)\n",
        "\t\tcv2.imwrite(destinationFolder+file_name_no_extension+\"_bloodvessel.png\",bloodvessel)\n",
        "        \n",
        "            "
      ],
      "execution_count": 0,
      "outputs": []
    },
    {
      "cell_type": "code",
      "metadata": {
        "id": "bAY4ZShXVYr7",
        "colab_type": "code",
        "colab": {}
      },
      "source": [
        "def main():\n",
        "   \n",
        "    imgpath1 =  \"C:/Drishti/Train/Glaucomatous/drishtiGS_088.png\"\n",
        "    imgpath2 =  \"C:/Drishti/Train/Glaucomatous_BV/drishtiGS_088_bloodvessel.png\"\n",
        "    \n",
        "    img1 = cv2.imread(imgpath1, 1)\n",
        "    img2 = cv2.imread(imgpath2, 1)\n",
        "    \n",
        "    \n",
        "    added_image = cv2.addWeighted(img1,0.4, img2,0.1,0)\n",
        "\n",
        "    cv2.imwrite('C:/Drishti/Train/BV_G/drishtiGS_088.png', added_image)\n",
        "    \n",
        "    \n",
        "if __name__ == \"__main__\":\n",
        "    main()"
      ],
      "execution_count": 0,
      "outputs": []
    },
    {
      "cell_type": "code",
      "metadata": {
        "id": "dRU_FJJQVYsA",
        "colab_type": "code",
        "colab": {}
      },
      "source": [
        ""
      ],
      "execution_count": 0,
      "outputs": []
    }
  ]
}